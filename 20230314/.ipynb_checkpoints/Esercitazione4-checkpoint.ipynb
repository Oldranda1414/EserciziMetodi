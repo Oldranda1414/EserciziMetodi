{
 "cells": [
  {
   "cell_type": "markdown",
   "id": "b97be3ab-d6dd-495f-a342-e5e837cfb8bc",
   "metadata": {},
   "source": [
    "#                       Esercitazione 4 - 14 Marzo 2023"
   ]
  },
  {
   "cell_type": "markdown",
   "id": "60ab2cbf-4329-4dbe-b761-16ea93bb103a",
   "metadata": {},
   "source": [
    "- **1.** Verificare il sistema dei numeri di macchina gestito da Python: importare il pacchetto sys. La funzione sys.float_info dà le informazioni necessarie. Stamparle e poi verificarne la validità con le formule viste a lezione: numero minimo di macchina, numero massimo di macchina, precisione di macchina \n",
    "\n",
    "\n",
    "  **N.B.** Bisogna tenere presente che c'è l'hidden bit. Quindi la mantissa più piccola da considerare $M=1.m$ dove $m=0$. Quindi il numero minimo ha mantissa $1.0$ e parte esponente $\\beta^L$, quindi e' dato da $1.0 \\beta^L= \\beta^L$.\n",
    "  \n",
    "   Ragionate voi per calcolare il numero massimo di macchina, tenendo conto dell'hidden bit.\n"
   ]
  },
  {
   "cell_type": "code",
   "execution_count": 33,
   "id": "99047f2c-c1ce-410a-9041-ef0aca3a11d2",
   "metadata": {},
   "outputs": [
    {
     "name": "stdout",
     "output_type": "stream",
     "text": [
      "sys.float_info(max=1.7976931348623157e+308, max_exp=1024, max_10_exp=308, min=2.2250738585072014e-308, min_exp=-1021, min_10_exp=-307, dig=15, mant_dig=53, epsilon=2.220446049250313e-16, radix=2, rounds=1)\n",
      "2.2250738585072014e-308\n",
      "1.7976931348623157e+308\n"
     ]
    }
   ],
   "source": [
    "import sys\n",
    "print(sys.float_info)\n",
    "beta = 2\n",
    "t = 53\n",
    "L = -1022\n",
    "U = 1023\n",
    "min_num = beta**L\n",
    "max_num = (beta**(U+1)) - (beta**(U+1-t))\n",
    "print(min_num)\n",
    "print('{:.16e}'.format(max_num))"
   ]
  },
  {
   "cell_type": "markdown",
   "id": "224ac7e6-31df-4f15-8ffc-9c82bd21c82e",
   "metadata": {},
   "source": [
    "- **2.**  Calcolare lo spacing in  $[2^{52}, 2^{53}]$.\n",
    "    - Sia $x=2^{52}$ individuare il numero successivo a $2^{52}$ ed assegnarlo ad una variabile  y.\n",
    "    - Cosa succede se consideriamo il valore z=x+0.5?\n",
    "    - Cosa succede se consideriamo il valore q=y+0.5?\n",
    "  "
   ]
  },
  {
   "cell_type": "code",
   "execution_count": 36,
   "id": "a0e41a07-94a1-445f-9330-91c4cd15edcf",
   "metadata": {},
   "outputs": [
    {
     "name": "stdout",
     "output_type": "stream",
     "text": [
      "spacing is equal to:  1\n",
      "x :  4503599627370496\n",
      "y :  4503599627370497\n",
      "x + 0.5 :  4503599627370496.0\n",
      "y + 0.5 :  4503599627370498.0\n"
     ]
    }
   ],
   "source": [
    "import numpy as np\n",
    "\n",
    "beta = 2\n",
    "t = 53\n",
    "p = 52\n",
    "spacing = beta**(p+1-t)\n",
    "x = 2**p\n",
    "y = x + spacing\n",
    "z = x + 0.5\n",
    "q = y + 0.5\n",
    "\n",
    "print(\"spacing is equal to: \", spacing)\n",
    "print(\"x : \", x)\n",
    "print(\"y : \", y)\n",
    "print(\"x + 0.5 : \", z)\n",
    "print(\"y + 0.5 : \", q)"
   ]
  },
  {
   "cell_type": "markdown",
   "id": "c73d1758-eb82-48af-8618-6dfb522dcdd6",
   "metadata": {},
   "source": [
    "- **3** Calcolare la cardinalità dell'insieme dei numeri finiti di Python"
   ]
  },
  {
   "cell_type": "code",
   "execution_count": 38,
   "id": "5d7f4a9f-7ba5-47d6-a7db-7b99b39f61ed",
   "metadata": {},
   "outputs": [
    {
     "name": "stdout",
     "output_type": "stream",
     "text": [
      "3.6857459350400139e+19\n"
     ]
    }
   ],
   "source": [
    "beta = 2\n",
    "t = 53\n",
    "L = -1022\n",
    "U = 1023\n",
    "\n",
    "Cardinalità = 2 * (beta - 1) * (beta**(t)) * (U - L + 1) + 1\n",
    "print('{:.16e}'.format(Cardinalità))"
   ]
  },
  {
   "cell_type": "markdown",
   "id": "cee853bd-aca6-47f4-980f-7e44473f7523",
   "metadata": {},
   "source": [
    "- **4**  Verificare numericamente che $\\texttt{eps} = 2^{-52}$, spacing nell'intervallo $[1, 2]$,\n",
    "è il piu' piccolo $x$ tale che $fl(1 + x)$ è  diverso da $1$. Si consiglia di\n",
    "visualizzare i risultati anche per differenza.\n"
   ]
  },
  {
   "cell_type": "code",
   "execution_count": 45,
   "id": "59197910-a059-41e9-9db4-abff978f7c0c",
   "metadata": {},
   "outputs": [
    {
     "name": "stdout",
     "output_type": "stream",
     "text": [
      "1.0000000000000002\n",
      "1.0\n",
      "2.220446049250313e-16\n"
     ]
    }
   ],
   "source": [
    "eps = 2 **(-52)\n",
    "smallerEps = 2 **(-53)\n",
    "\n",
    "epsTest = 1 + eps\n",
    "smallerEpsTest = 1 + smallerEps\n",
    "\n",
    "print(epsTest)\n",
    "print(smallerEpsTest)\n",
    "print(epsTest - smallerEpsTest)"
   ]
  },
  {
   "cell_type": "markdown",
   "id": "d19cd104-d1ea-4444-996c-0a9672063450",
   "metadata": {},
   "source": [
    "- **5.** Siano $a=1.234567890123400 e+15$, $b=-1.234567890123401 e+15$, $c=0.06$. \n",
    "  Calcolare $(a+b)+c$, $(a+c)+b$, $a+(b+c)$. Che cosa si osserva? Ripetere l'esercizio con $a=0.23371258 e-4$, $b=0.33678429 e+2$, $c=-0.33677911 e+2$."
   ]
  },
  {
   "cell_type": "code",
   "execution_count": 57,
   "id": "36121578-ae77-4429-887f-da571ec6c644",
   "metadata": {},
   "outputs": [
    {
     "name": "stdout",
     "output_type": "stream",
     "text": [
      "a :  1234567890123400.0\n",
      "b :  -1234567890123401.0\n",
      "c :  0.06\n",
      "(a + b) + c:  -0.94\n",
      "(a + c) + b:  -1.0\n",
      "a + (b + c):  -1.0\n",
      "\n",
      "changing values\n",
      "\n",
      "a :  2.3371258e-05\n",
      "b :  33.678429\n",
      "c :  -33.677911\n",
      "(a + b) + c:  0.0005413712580022434\n",
      "(a + c) + b:  0.0005413712580022434\n",
      "a + (b + c):  0.0005413712579995743\n"
     ]
    }
   ],
   "source": [
    "a = 1.234567890123400e+15\n",
    "b = -1.234567890123401e+15\n",
    "c = 0.06\n",
    "print(\"a : \", a)\n",
    "print(\"b : \", b)\n",
    "print(\"c : \", c)\n",
    "print(\"(a + b) + c: \", (a + b) + c)\n",
    "print(\"(a + c) + b: \", (a + c) + b)\n",
    "print(\"a + (b + c): \", a + (b + c))\n",
    "\n",
    "print(\"\\nchanging values\\n\")\n",
    "a = 0.23371258e-4\n",
    "b = 0.33678429e+2\n",
    "c = -0.33677911e+2\n",
    "print(\"a : \", a)\n",
    "print(\"b : \", b)\n",
    "print(\"c : \", c)\n",
    "print(\"(a + b) + c: \", (a + b) + c)\n",
    "print(\"(a + c) + b: \", (a + c) + b)\n",
    "print(\"a + (b + c): \", a + (b + c))"
   ]
  },
  {
   "cell_type": "markdown",
   "id": "960d25c1-9677-4b1e-92c1-c16870d520b6",
   "metadata": {},
   "source": [
    "- **6.** Si considerino le espressioni $y_1=\\sqrt{x^2+1}-x$ e $y_2=\\frac{1}{\\sqrt{x^2+1}+x}$. Calcolare il valore di $y_1$ e $y_2$ per $x=7777$ e $x=77777777$. Che cosa si osserva? Commentare i risultati ottenuti."
   ]
  },
  {
   "cell_type": "code",
   "execution_count": 60,
   "id": "eea3e338-6651-47e6-af24-7d83b9b220e8",
   "metadata": {},
   "outputs": [
    {
     "name": "stdout",
     "output_type": "stream",
     "text": [
      "y1(7777) :  6.429214317904552e-05\n",
      "y2(7777) :  6.429214323431402e-05\n",
      "y1(77777777) :  0.0\n",
      "y2(77777777) :  6.428571492857143e-09\n"
     ]
    }
   ],
   "source": [
    "import math\n",
    "y1 = lambda a : (math.sqrt((a**2) + 1)) - a\n",
    "y2 = lambda a : 1/((math.sqrt((a**2)+1)) + a)\n",
    "\n",
    "print(\"y1(7777) : \", y1(7777))\n",
    "print(\"y2(7777) : \", y2(7777))\n",
    "print(\"y1(77777777) : \", y1(77777777))\n",
    "print(\"y2(77777777) : \", y2(77777777))"
   ]
  },
  {
   "cell_type": "markdown",
   "id": "e3d8c3b3-d514-41ec-a6f2-eb22311ab157",
   "metadata": {},
   "source": [
    "- **7.** Valutare in aritmetica floating point l'espressione\n",
    "$$A(x)=\\frac{1}{x}-\\frac{1}{(x+1)}$$  nel vettore   $x=[10^0, 10^1,... ,10^{20}]$ contenente potenze successive  di $10$,  Si calcoli per ogni elemento di x l'errore relativo considerando come valore esatto quello calcolato usando  l'espressione algebricamente equivalente\n",
    "$$\n",
    "B(x)=\\frac{1}{x (x+1)}.\n",
    "$$ Si visualizzi l'errore relativo in un grafico in scala logaritmica su $x$ e $y$"
   ]
  },
  {
   "cell_type": "code",
   "execution_count": 15,
   "id": "1ca30346-b381-4f4b-985a-8518545c7f99",
   "metadata": {},
   "outputs": [
    {
     "name": "stdout",
     "output_type": "stream",
     "text": [
      "range(0, 21)\n"
     ]
    },
    {
     "data": {
      "image/png": "[encoded data removed]",
      "text/plain": [
       "<Figure size 640x480 with 1 Axes>"
      ]
     },
     "metadata": {},
     "output_type": "display_data"
    }
   ],
   "source": [
    "import numpy as np\n",
    "import math\n",
    "import matplotlib.pyplot as plt\n",
    "\n",
    "A = lambda x : (1/x) - (1 / (x + 1))\n",
    "B = lambda x : 1/(x * (x + 1))\n",
    "\n",
    "x = np.array([10**x for x in range(21)])\n",
    "a = A(x)\n",
    "b = B(x)\n",
    "relErr = (abs(b - a)) / abs(b)\n",
    "y = range(21)\n",
    "\n",
    "plt.semilogy(relErr,y)\n",
    "plt.show()"
   ]
  },
  {
   "cell_type": "markdown",
   "id": "27155dcd-6580-4e3d-aac9-fa42b717bf70",
   "metadata": {},
   "source": [
    "- **8-**  Quali problemi si possono incontrare nel calcolo delle radici di $a x^2+b x+c$? Provare a risolvere l'equazione $x^2+10^k x+1=0$ con k in range(1,9). Che cosa si osserva?"
   ]
  },
  {
   "cell_type": "markdown",
   "id": "9f6294cc-b0df-40b8-a1f5-450f4e756ffa",
   "metadata": {},
   "source": [
    "- **9.** Scrivere uno script Matlab che fornisca le approssimazioni di $e=\\exp(1)$ ottenute con la formula\n",
    "$f(n)=(1/n+1)^n$ per $n=10^k$ e  $k=0, ..., 16$. Visualizzare: un grafico con i valori di $f(n)$ al variare di n ed un grafico con i valori dell'errore relativo (considerando come valore esatto il valore math.exp(1)).  Cosa si osserva? Commentare i risultati ottenuti."
   ]
  },
  {
   "cell_type": "code",
   "execution_count": null,
   "id": "9d72d963-fa73-4a83-be6d-c6058a4783c5",
   "metadata": {},
   "outputs": [],
   "source": []
  }
 ],
 "metadata": {
  "kernelspec": {
   "display_name": "Python 3 (ipykernel)",
   "language": "python",
   "name": "python3"
  },
  "language_info": {
   "codemirror_mode": {
    "name": "ipython",
    "version": 3
   },
   "file_extension": ".py",
   "mimetype": "text/x-python",
   "name": "python",
   "nbconvert_exporter": "python",
   "pygments_lexer": "ipython3",
   "version": "3.9.13"
  }
 },
 "nbformat": 4,
 "nbformat_minor": 5
}
