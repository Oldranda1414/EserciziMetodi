{
 "cells": [
  {
   "cell_type": "markdown",
   "id": "cd8d6a57-49d8-4eab-bb0f-107b277ad3d1",
   "metadata": {},
   "source": [
    "## Esercizi sui Numpy array  7 Marzo 2023\n"
   ]
  },
  {
   "cell_type": "markdown",
   "id": "e84277dd-60f6-4f68-a215-01a84d73523e",
   "metadata": {},
   "source": [
    "- **0.** Costruisci un numpy array con 2000000 elementi equidistanti nell'intervallo [0,4] utilizzando il linspace e con il metodo che assegna i valori in un ciclo dopo aver definito il passo e confronta il tempo di esecuzione delle due modalità di costruzione."
   ]
  },
  {
   "cell_type": "code",
   "execution_count": 6,
   "id": "fe553198-21ae-43c0-baac-7f49b1eb13b1",
   "metadata": {},
   "outputs": [
    {
     "name": "stdout",
     "output_type": "stream",
     "text": [
      "using linspace the resulting array is:  [0.000000e+00 2.000001e-06 4.000002e-06 ... 3.999996e+00 3.999998e+00\n",
      " 4.000000e+00]\n",
      "is generated in:  0.01652359962463379\n",
      "using for loop the resulting array is:  [0.000000e+00 2.000000e-06 4.000000e-06 ... 3.999994e+00 3.999996e+00\n",
      " 3.999998e+00]\n",
      "is generated in:  2.1690659523010254\n"
     ]
    }
   ],
   "source": [
    "import time as time\n",
    "import numpy as np\n",
    "linspace_start_time = time.time()\n",
    "arr = np.linspace(0, 4, 2000000)\n",
    "linspace_tot_time = time.time() - linspace_start_time\n",
    "\n",
    "step = 4 / 2000000\n",
    "\n",
    "arr2 = np.zeros_like(arr)\n",
    "for_start_time = time.time()\n",
    "for i in range(1, 2000000):\n",
    "    arr2[i] = arr2[i - 1] + step\n",
    "for_tot_time = time.time() - for_start_time\n",
    "print(\"using linspace the resulting array is: \", arr)\n",
    "print(\"is generated in: \", linspace_tot_time)\n",
    "print(\"using for loop the resulting array is: \", arr2)\n",
    "print(\"is generated in: \", for_tot_time)"
   ]
  },
  {
   "cell_type": "markdown",
   "id": "55088af4-a3a4-452b-9f39-38327eba5ab0",
   "metadata": {},
   "source": [
    "- **1.**  Costruire un numpy array 1d, denominato  `c`, di valori equidistanti che variano tra 7 e 41 con step 2 e trasformarlo in un numpy array 2d, denominato `C1` , con shape(2,9) applicando il metodo `.reshape((m,n))` a c. \n",
    "\n",
    "  Si tratta di una copia o di una `vista dell'array originale` con una nuova shape, con dati condivisi con l'array originale?\n"
   ]
  },
  {
   "cell_type": "code",
   "execution_count": 14,
   "id": "06a5d26b-ce5d-49bb-9993-5e7a60d32f99",
   "metadata": {},
   "outputs": [
    {
     "name": "stdout",
     "output_type": "stream",
     "text": [
      "c =  [ 7  9 11 13 15 17 19 21 23 25 27 29 31 33 35 37 39 41]\n",
      "C1 =  [[ 7  9 11 13 15 17 19 21 23]\n",
      " [25 27 29 31 33 35 37 39 41]]\n"
     ]
    }
   ],
   "source": [
    "import numpy as np\n",
    "c = np.arange(7, 43 ,2)\n",
    "C1 = c.reshape((2, 9))\n",
    "print(\"c = \", c)\n",
    "print(\"C1 = \", C1)"
   ]
  },
  {
   "cell_type": "markdown",
   "id": "62109805-3fdd-4ceb-b478-7e0c1652ef6b",
   "metadata": {},
   "source": [
    "Importa il modulo numpy"
   ]
  },
  {
   "cell_type": "markdown",
   "id": "7b81197a-a950-48ab-8e75-31855ac69d9d",
   "metadata": {},
   "source": [
    " - **2.** Costruire un numpy array 1d, denominato $C$ di valori che variano tra 15 e 41 con step 2 e trasformarlo in un numpy array 2d con shape(7,2) usando il metodo .`resize(7,2)` che lavora in-place,  (cioè  modifica l'array esistente, senza creare una copia). Verificare la shape di C"
   ]
  },
  {
   "cell_type": "code",
   "execution_count": 16,
   "id": "ddf7e23f-a423-472a-83a5-799d502de03d",
   "metadata": {},
   "outputs": [
    {
     "name": "stdout",
     "output_type": "stream",
     "text": [
      "(7, 2)\n"
     ]
    }
   ],
   "source": [
    "import numpy as np\n",
    "C = np.arange(15, 43, 2)\n",
    "C.resize(7, 2)\n",
    "print(C.shape)"
   ]
  },
  {
   "cell_type": "markdown",
   "id": "65a55a8f-1b6d-474d-a012-8e83ca167588",
   "metadata": {},
   "source": [
    "- **3.** Costruire un numpy array 1d $c$ di valori che variano tra 15 e 41 con step 2 e trasformarlo in un numpy array 2d con shape(7,2) usando la funzione `reshape`. Verificare se la funzione  `reshape` restituisce una copia oppure una vista. "
   ]
  },
  {
   "cell_type": "code",
   "execution_count": 24,
   "id": "4ac99531-96ad-4919-8a85-5d1a49e0ff23",
   "metadata": {},
   "outputs": [
    {
     "name": "stdout",
     "output_type": "stream",
     "text": [
      "[15 17 19  0 23 25 27 29 31 33 35 37 39 41]\n",
      "[[15 17]\n",
      " [19  0]\n",
      " [23 25]\n",
      " [27 29]\n",
      " [31 33]\n",
      " [35 37]\n",
      " [39 41]]\n"
     ]
    }
   ],
   "source": [
    "import numpy as np\n",
    "C = np.arange(15, 43, 2)\n",
    "arr = C.reshape(7, 2)\n",
    "arr[1][1] = 0\n",
    "print(C)\n",
    "print(arr)"
   ]
  },
  {
   "cell_type": "markdown",
   "id": "fa72fbdd-8a7a-419a-8067-6951f06e2de4",
   "metadata": {},
   "source": [
    "- **4.** Costruire un numpy array 1d $d$ di valori che variano tra 15 e 41 con step 2 e trasformarlo in un numpy array 2d con shape(7,2) usando la funzione `resize`. Verificare se la funzione  `resize` restituisce una copia oppure una vista. "
   ]
  },
  {
   "cell_type": "code",
   "execution_count": 25,
   "id": "fde9746a-a21b-4c27-8301-4bf16215f2a7",
   "metadata": {},
   "outputs": [
    {
     "name": "stdout",
     "output_type": "stream",
     "text": [
      "[[15 17]\n",
      " [19 21]\n",
      " [23 25]\n",
      " [27 29]\n",
      " [31 33]\n",
      " [35 37]\n",
      " [39 41]]\n",
      "None\n"
     ]
    }
   ],
   "source": [
    "import numpy as np\n",
    "C = np.arange(15, 43, 2)\n",
    "arr = C.resize(7, 2)\n",
    "\n",
    "print(C)\n",
    "print(arr)"
   ]
  },
  {
   "cell_type": "markdown",
   "id": "d1adc080-9ce4-404c-ba18-c831f2625214",
   "metadata": {},
   "source": [
    "- **5.** Dato il numpy array s formato da 100 valori equidistanti in  [0,4], considerarne il reshape in un array 2d che ha 4 righe con un numero opportuno di colonne"
   ]
  },
  {
   "cell_type": "code",
   "execution_count": 29,
   "id": "f437fb0f-bdf7-458a-9d64-24c21e2e880f",
   "metadata": {},
   "outputs": [
    {
     "name": "stdout",
     "output_type": "stream",
     "text": [
      "[[0.         0.04040404 0.08080808 0.12121212 0.16161616 0.2020202\n",
      "  0.24242424 0.28282828 0.32323232 0.36363636 0.4040404  0.44444444\n",
      "  0.48484848 0.52525253 0.56565657 0.60606061 0.64646465 0.68686869\n",
      "  0.72727273 0.76767677 0.80808081 0.84848485 0.88888889 0.92929293\n",
      "  0.96969697]\n",
      " [1.01010101 1.05050505 1.09090909 1.13131313 1.17171717 1.21212121\n",
      "  1.25252525 1.29292929 1.33333333 1.37373737 1.41414141 1.45454545\n",
      "  1.49494949 1.53535354 1.57575758 1.61616162 1.65656566 1.6969697\n",
      "  1.73737374 1.77777778 1.81818182 1.85858586 1.8989899  1.93939394\n",
      "  1.97979798]\n",
      " [2.02020202 2.06060606 2.1010101  2.14141414 2.18181818 2.22222222\n",
      "  2.26262626 2.3030303  2.34343434 2.38383838 2.42424242 2.46464646\n",
      "  2.50505051 2.54545455 2.58585859 2.62626263 2.66666667 2.70707071\n",
      "  2.74747475 2.78787879 2.82828283 2.86868687 2.90909091 2.94949495\n",
      "  2.98989899]\n",
      " [3.03030303 3.07070707 3.11111111 3.15151515 3.19191919 3.23232323\n",
      "  3.27272727 3.31313131 3.35353535 3.39393939 3.43434343 3.47474747\n",
      "  3.51515152 3.55555556 3.5959596  3.63636364 3.67676768 3.71717172\n",
      "  3.75757576 3.7979798  3.83838384 3.87878788 3.91919192 3.95959596\n",
      "  4.        ]]\n"
     ]
    }
   ],
   "source": [
    "import numpy as np\n",
    "s = np.linspace(0, 4, 100)\n",
    "\n",
    "columns = int(100/4)\n",
    "\n",
    "arr = s.reshape(4, columns)\n",
    "print(arr)"
   ]
  },
  {
   "cell_type": "markdown",
   "id": "d40f5d7a-4808-4004-b806-b8b75bcaa01b",
   "metadata": {},
   "source": [
    "- **6.** Dato il numpy array s formato da 100 valori equidistanti in  [0,4], considerarne il reshape in un array 2d che ha 4 colonne con un numero opportuno di righe"
   ]
  },
  {
   "cell_type": "code",
   "execution_count": 30,
   "id": "b588aa80-150e-4339-b3fb-3f4d4135f981",
   "metadata": {},
   "outputs": [
    {
     "name": "stdout",
     "output_type": "stream",
     "text": [
      "[[0.         0.04040404 0.08080808 0.12121212]\n",
      " [0.16161616 0.2020202  0.24242424 0.28282828]\n",
      " [0.32323232 0.36363636 0.4040404  0.44444444]\n",
      " [0.48484848 0.52525253 0.56565657 0.60606061]\n",
      " [0.64646465 0.68686869 0.72727273 0.76767677]\n",
      " [0.80808081 0.84848485 0.88888889 0.92929293]\n",
      " [0.96969697 1.01010101 1.05050505 1.09090909]\n",
      " [1.13131313 1.17171717 1.21212121 1.25252525]\n",
      " [1.29292929 1.33333333 1.37373737 1.41414141]\n",
      " [1.45454545 1.49494949 1.53535354 1.57575758]\n",
      " [1.61616162 1.65656566 1.6969697  1.73737374]\n",
      " [1.77777778 1.81818182 1.85858586 1.8989899 ]\n",
      " [1.93939394 1.97979798 2.02020202 2.06060606]\n",
      " [2.1010101  2.14141414 2.18181818 2.22222222]\n",
      " [2.26262626 2.3030303  2.34343434 2.38383838]\n",
      " [2.42424242 2.46464646 2.50505051 2.54545455]\n",
      " [2.58585859 2.62626263 2.66666667 2.70707071]\n",
      " [2.74747475 2.78787879 2.82828283 2.86868687]\n",
      " [2.90909091 2.94949495 2.98989899 3.03030303]\n",
      " [3.07070707 3.11111111 3.15151515 3.19191919]\n",
      " [3.23232323 3.27272727 3.31313131 3.35353535]\n",
      " [3.39393939 3.43434343 3.47474747 3.51515152]\n",
      " [3.55555556 3.5959596  3.63636364 3.67676768]\n",
      " [3.71717172 3.75757576 3.7979798  3.83838384]\n",
      " [3.87878788 3.91919192 3.95959596 4.        ]]\n"
     ]
    }
   ],
   "source": [
    "import numpy as np\n",
    "s = np.linspace(0, 4, 100)\n",
    "\n",
    "lines = int(100/4)\n",
    "\n",
    "arr = s.reshape(lines, 4)\n",
    "print(arr)"
   ]
  },
  {
   "cell_type": "markdown",
   "id": "19559c2a-0ac7-4d4a-b6ff-38e58843b3b6",
   "metadata": {},
   "source": [
    " - **7.** Scrivere il numpy  array 2d [[10,11,12],[13,14,15],[16,17,18]] e trasformarlo in un numpy array 1d usando i metodi `.ravel()` e `.flatten()`. Verificare che flatten restituisce una copia mentre ravel restituisce una vista."
   ]
  },
  {
   "cell_type": "code",
   "execution_count": 32,
   "id": "9320368e-6424-4bbb-8f48-d654ef7b9ec6",
   "metadata": {},
   "outputs": [
    {
     "name": "stdout",
     "output_type": "stream",
     "text": [
      "[[10 11 12]\n",
      " [13  0 15]\n",
      " [16 17 18]]\n",
      "[10 11 12 13  0 15 16 17 18]\n",
      "[10 11 12 13 14 15 16 17 18]\n"
     ]
    }
   ],
   "source": [
    "import numpy as np\n",
    "arr = np.array([[10,11,12],[13,14,15],[16,17,18]])\n",
    "arr2 = arr.ravel()\n",
    "arr3 = arr.flatten()\n",
    "arr[1][1] = 0\n",
    "\n",
    "print(arr)\n",
    "print(arr2)\n",
    "print(arr3)"
   ]
  },
  {
   "cell_type": "markdown",
   "id": "c77c2529-d680-42c9-9231-3aca724b1c12",
   "metadata": {},
   "source": [
    " - **8.** creare i due  numpy array 1d\n",
    "f1= [ 0  1  2  3  4  5  6  7  8  9 10 11 12 13 14 15] ed \n",
    "f2= [16 17 18 19 20 21 22 23 24 25 26 27 28 29 30 31]\n",
    "\"vederli\" come matrici  4x4 ed effettuarne il prodotto scalare, memorizzando in f3 la matrice che nasce dal loro prodotto."
   ]
  },
  {
   "cell_type": "code",
   "execution_count": 35,
   "id": "78c76f32-9ef3-429a-8845-ab8291bbe32e",
   "metadata": {},
   "outputs": [
    {
     "name": "stdout",
     "output_type": "stream",
     "text": [
      "[[ 152  158  164  170]\n",
      " [ 504  526  548  570]\n",
      " [ 856  894  932  970]\n",
      " [1208 1262 1316 1370]]\n"
     ]
    }
   ],
   "source": [
    "import numpy as np\n",
    "f1 = np.array([0, 1, 2, 3, 4, 5, 6, 7, 8, 9, 10, 11, 12, 13, 14, 15])\n",
    "f2 = np.array([16, 17, 18, 19, 20, 21, 22, 23, 24, 25, 26, 27, 28, 29, 30, 31])\n",
    "f1.resize(4, 4)\n",
    "f2.resize(4, 4)\n",
    "f3 = np.dot(f1, f2)\n",
    "print(f3)"
   ]
  },
  {
   "cell_type": "markdown",
   "id": "c9249961-c220-46c0-9e0d-e59dfefe662c",
   "metadata": {},
   "source": [
    "- **9.**                Dati :\n",
    " - Numpy Array A di shape (2,10) : array di valori random campionati da una distribuzione gaussiana con media 0 e varianza 1.\n",
    " - Numpy array 1D B di shape (20,) formato dagli interi da 0 a 19.\n",
    " \n",
    "\"Vedere\" A come un array 1D di 20 elementi ed effettuare la somma di A+B\n",
    "\n"
   ]
  },
  {
   "cell_type": "code",
   "execution_count": 36,
   "id": "5ef52180-0083-4cc5-b907-6823244d031a",
   "metadata": {},
   "outputs": [
    {
     "name": "stdout",
     "output_type": "stream",
     "text": [
      "[-0.89454035  1.56020847  1.27557189  2.69292865  3.50930416  4.68920814\n",
      "  6.45868516  6.06622506  8.11946585  9.21751219  9.24863099 10.78983131\n",
      " 13.47934741 12.0813299  14.40150579 15.53269867 15.83079998 16.95414254\n",
      " 17.51696753 20.78837274]\n"
     ]
    }
   ],
   "source": [
    "import numpy as np\n",
    "A = np.random.randn(2, 10)\n",
    "B = np.arange(0, 20)\n",
    "print(A.ravel() + B)"
   ]
  },
  {
   "cell_type": "markdown",
   "id": "7f6cf29e-d14a-46c9-8f35-e66151a9e0a3",
   "metadata": {},
   "source": [
    " - **10.** Creare un array 2D di shape (5,5), denominato B2, con valori tutti uguali a 15.\n",
    "Creare una copia B3 di B2. Modificare l'elemento B3[0,0] assegnandogli il valore 150. \n",
    "Stampare il numpy array B2 ed il numpy array B3 e verificare che B2, dopo la modifica di B3, è rimasto inalterato"
   ]
  },
  {
   "cell_type": "code",
   "execution_count": 38,
   "id": "70156a55-0cca-4c70-8b0e-429b6f1b9a79",
   "metadata": {},
   "outputs": [
    {
     "name": "stdout",
     "output_type": "stream",
     "text": [
      "[[15 15 15 15 15]\n",
      " [15 15 15 15 15]\n",
      " [15 15 15 15 15]\n",
      " [15 15 15 15 15]\n",
      " [15 15 15 15 15]]\n",
      "[[150  15  15  15  15]\n",
      " [ 15  15  15  15  15]\n",
      " [ 15  15  15  15  15]\n",
      " [ 15  15  15  15  15]\n",
      " [ 15  15  15  15  15]]\n"
     ]
    }
   ],
   "source": [
    "import numpy as np\n",
    "B2 = np.full((5,5), 15)\n",
    "B3 = np.copy(B2)\n",
    "B3[0][0] = 150\n",
    "print(B2)\n",
    "print(B3)"
   ]
  },
  {
   "cell_type": "markdown",
   "id": "22c456d1-2897-412c-99c1-e9b19cbab4e7",
   "metadata": {},
   "source": [
    " - **11.** - Dato un numpy array 1D, di shape (10,) denominato `f`, costituito da 10 valori equidistanti nell'intervallo [0,1], aumentarne la dimensionalità, in maniera tale che abbia shape (10,1)"
   ]
  },
  {
   "cell_type": "code",
   "execution_count": 41,
   "id": "13f85557-0533-4ec2-8ebb-3923671cf92c",
   "metadata": {},
   "outputs": [
    {
     "name": "stdout",
     "output_type": "stream",
     "text": [
      "[0.         0.11111111 0.22222222 0.33333333 0.44444444 0.55555556\n",
      " 0.66666667 0.77777778 0.88888889 1.        ]\n",
      "[[0.        ]\n",
      " [0.11111111]\n",
      " [0.22222222]\n",
      " [0.33333333]\n",
      " [0.44444444]\n",
      " [0.55555556]\n",
      " [0.66666667]\n",
      " [0.77777778]\n",
      " [0.88888889]\n",
      " [1.        ]]\n"
     ]
    }
   ],
   "source": [
    "import numpy as np\n",
    "F = np.linspace(0, 1, 10)\n",
    "arr = F.reshape(10, 1)\n",
    "print(F)\n",
    "print(arr)"
   ]
  },
  {
   "cell_type": "markdown",
   "id": "2866db7c-cbcb-431e-bc6a-2645577a65e8",
   "metadata": {},
   "source": [
    "- **12.** Dati i seguenti numpy array\n",
    "  - a= np.array([14,13,12,11])\n",
    "  - b=np.array([[4,3,2,1],[9,10,11,12]])\n",
    "\n",
    "  Costruire il numpy array che si ottiene concatenando a e b per righe\n"
   ]
  },
  {
   "cell_type": "code",
   "execution_count": 56,
   "id": "3fa63935-a447-4c1b-b46f-9fb47292d136",
   "metadata": {},
   "outputs": [
    {
     "name": "stdout",
     "output_type": "stream",
     "text": [
      "[[14 13 12 11]\n",
      " [ 4  3  2  1]\n",
      " [ 9 10 11 12]]\n"
     ]
    }
   ],
   "source": [
    "import numpy as np\n",
    "a= np.array([14,13,12,11])\n",
    "b= np.array([[4,3,2,1],[9,10,11,12]])\n",
    "a = a.reshape((1, 4))\n",
    "cat = np.concatenate((a, b), axis=0)\n",
    "print(cat)"
   ]
  },
  {
   "cell_type": "markdown",
   "id": "d57c7290-27ce-4dce-a8e2-6b89124ed223",
   "metadata": {},
   "source": [
    "- **13.** - Dati i seguenti numpy array\n",
    "  - a= np.array([14,13,12,11])\n",
    "  - b=np.array([[4,3,2,1],[9,10,11,12],[4,3,2,1],[9,10,11,12]])\n",
    "\n",
    "  Costruire il numpy array che si ottiene concatenando a e b per colonne"
   ]
  },
  {
   "cell_type": "code",
   "execution_count": 55,
   "id": "d85a70b4-8cd1-4fc3-908f-939d5dee48e0",
   "metadata": {},
   "outputs": [
    {
     "name": "stdout",
     "output_type": "stream",
     "text": [
      "[[14  4  3  2  1]\n",
      " [13  9 10 11 12]\n",
      " [12  4  3  2  1]\n",
      " [11  9 10 11 12]]\n"
     ]
    }
   ],
   "source": [
    "import numpy as np\n",
    "a= np.array([14,13,12,11])\n",
    "b=np.array([[4,3,2,1],[9,10,11,12],[4,3,2,1],[9,10,11,12]])\n",
    "a = a.reshape((4,1))\n",
    "cat = np.concatenate((a, b), axis= 1)\n",
    "print(cat)"
   ]
  },
  {
   "cell_type": "markdown",
   "id": "7c6eb421-0e1f-445b-b72f-7d2a2451fcb4",
   "metadata": {},
   "source": [
    "- **14.** Costruisci la matrice tridiagonale A di ordine 10, che ha elementi diagonali $A_{i,i}=10$, i=1,20, elementi nella codiagonale inferiore $A_{i-1,i}=-12$ i=2,..,20\n",
    "elementi nella codiagonale superiore $A_{i,i+1}=-2$ i=1,..,19"
   ]
  },
  {
   "cell_type": "code",
   "execution_count": 65,
   "id": "70910f98-ba65-4051-9ac5-9ff5904f3ae6",
   "metadata": {},
   "outputs": [
    {
     "name": "stdout",
     "output_type": "stream",
     "text": [
      "[[ 10  -2   0   0   0   0   0   0   0   0]\n",
      " [-12  10  -2   0   0   0   0   0   0   0]\n",
      " [  0 -12  10  -2   0   0   0   0   0   0]\n",
      " [  0   0 -12  10  -2   0   0   0   0   0]\n",
      " [  0   0   0 -12  10  -2   0   0   0   0]\n",
      " [  0   0   0   0 -12  10  -2   0   0   0]\n",
      " [  0   0   0   0   0 -12  10  -2   0   0]\n",
      " [  0   0   0   0   0   0 -12  10  -2   0]\n",
      " [  0   0   0   0   0   0   0 -12  10  -2]\n",
      " [  0   0   0   0   0   0   0   0 -12  10]]\n"
     ]
    }
   ],
   "source": [
    "import numpy as np\n",
    "A = np.diagflat(np.full((10, 1), 10)) + np.diagflat(np.full((9, 1), -12), k = -1) + np.diagflat(np.full((9, 1), -2), k = 1)\n",
    "print(A)"
   ]
  },
  {
   "cell_type": "markdown",
   "id": "bae8a3dc-e71c-4ff4-8062-2d66c377d63f",
   "metadata": {},
   "source": [
    " - **15** Costruire la matrice identità della stessa dimensione di A"
   ]
  },
  {
   "cell_type": "code",
   "execution_count": 70,
   "id": "b2242aa0-8b5e-4814-b7e4-27dd6fc4ada7",
   "metadata": {},
   "outputs": [
    {
     "name": "stdout",
     "output_type": "stream",
     "text": [
      "[[1. 0. 0. 0. 0. 0. 0. 0. 0. 0.]\n",
      " [0. 1. 0. 0. 0. 0. 0. 0. 0. 0.]\n",
      " [0. 0. 1. 0. 0. 0. 0. 0. 0. 0.]\n",
      " [0. 0. 0. 1. 0. 0. 0. 0. 0. 0.]\n",
      " [0. 0. 0. 0. 1. 0. 0. 0. 0. 0.]\n",
      " [0. 0. 0. 0. 0. 1. 0. 0. 0. 0.]\n",
      " [0. 0. 0. 0. 0. 0. 1. 0. 0. 0.]\n",
      " [0. 0. 0. 0. 0. 0. 0. 1. 0. 0.]\n",
      " [0. 0. 0. 0. 0. 0. 0. 0. 1. 0.]\n",
      " [0. 0. 0. 0. 0. 0. 0. 0. 0. 1.]]\n"
     ]
    }
   ],
   "source": [
    "import numpy as np\n",
    "A = np.diagflat(np.full((10, 1), 10)) + np.diagflat(np.full((9, 1), -12), k = -1) + np.diagflat(np.full((9, 1), -2), k = 1)\n",
    "ident = np.identity(len(A))\n",
    "print(ident)"
   ]
  },
  {
   "cell_type": "markdown",
   "id": "612458f4-d8f6-4015-ae74-042d73cbd9f9",
   "metadata": {},
   "source": [
    "- **16.** Selezionare dalla matrice A le righe che vanno dalla 2 alla 9 con step 2 e le colonne che vanno dalla 3 alla 6 con step 2\n"
   ]
  },
  {
   "cell_type": "code",
   "execution_count": 71,
   "id": "6f55ef7d-bc7a-4654-85de-86cdfabdde0f",
   "metadata": {},
   "outputs": [
    {
     "name": "stdout",
     "output_type": "stream",
     "text": [
      "[[  0   0   0   0   0   0   0 -12  10  -2]]\n"
     ]
    }
   ],
   "source": [
    "import numpy as np\n",
    "A = np.diagflat(np.full((10, 1), 10)) + np.diagflat(np.full((9, 1), -12), k = -1) + np.diagflat(np.full((9, 1), -2), k = 1)\n",
    "A1 = A[2:9:2][3:6:2]\n",
    "print(A1)"
   ]
  },
  {
   "cell_type": "markdown",
   "id": "db2a4f82-fe57-4763-bd58-9921869c671c",
   "metadata": {},
   "source": [
    "- **17.** A1 è una vista di A, come trasformarla in copia?"
   ]
  },
  {
   "cell_type": "code",
   "execution_count": 2,
   "id": "0a857fd7-afb5-446f-9912-5328acb896db",
   "metadata": {},
   "outputs": [
    {
     "name": "stdout",
     "output_type": "stream",
     "text": [
      "[[100 100 100 100 100 100 100 100 100 100]]\n",
      "[[ 10  -2   0   0   0   0   0   0   0   0]\n",
      " [-12  10  -2   0   0   0   0   0   0   0]\n",
      " [  0 -12  10  -2   0   0   0   0   0   0]\n",
      " [  0   0 -12  10  -2   0   0   0   0   0]\n",
      " [  0   0   0 -12  10  -2   0   0   0   0]\n",
      " [  0   0   0   0 -12  10  -2   0   0   0]\n",
      " [  0   0   0   0   0 -12  10  -2   0   0]\n",
      " [  0   0   0   0   0   0 -12  10  -2   0]\n",
      " [  0   0   0   0   0   0   0 -12  10  -2]\n",
      " [  0   0   0   0   0   0   0   0 -12  10]]\n"
     ]
    }
   ],
   "source": [
    "import numpy as np\n",
    "A = np.diagflat(np.full((10, 1), 10)) + np.diagflat(np.full((9, 1), -12), k = -1) + np.diagflat(np.full((9, 1), -2), k = 1)\n",
    "A1 = A[2:9:2][3:6:2]\n",
    "A1 = np.copy(A1)\n",
    "\n",
    "A1[0] = 100\n",
    "\n",
    "print(A1)\n",
    "print(A)"
   ]
  },
  {
   "cell_type": "markdown",
   "id": "f5a336bc-5cf9-4400-ae23-4be1f35521de",
   "metadata": {
    "tags": []
   },
   "source": [
    "- **18.** Costruisci due numpy array di shape (5,5) \n",
    "   - A formata da numeri interi casuali  nell'intervallo [1,20]\n",
    "   - B formata da numeri interi casuali  nell'intervallo [1,6]\n",
    " \n",
    "  Costruisci in modalità element-wise le matrici\n",
    "  C=A+B\n",
    "  D=A-B\n",
    "  E=A*B\n",
    "  F=A\\B"
   ]
  },
  {
   "cell_type": "code",
   "execution_count": 7,
   "id": "186bf969-d4a0-4bd1-94ff-fbccc656524b",
   "metadata": {},
   "outputs": [
    {
     "name": "stdout",
     "output_type": "stream",
     "text": [
      "C =  [[19 21 17 12 11]\n",
      " [11  8 17 13  2]\n",
      " [22 21  3 12 19]\n",
      " [14 24 13 19 20]\n",
      " [21 19 13 11 16]]\n",
      "D =  [[13 13 13  4  9]\n",
      " [ 5  2 13 11  0]\n",
      " [18 13 -1  6 13]\n",
      " [10 16 11 17 10]\n",
      " [19 11  9  3 14]]\n",
      "E =  [[48 68 30 32 10]\n",
      " [24 15 30 12  1]\n",
      " [40 68  2 27 48]\n",
      " [24 80 12 18 75]\n",
      " [20 60 22 28 15]]\n",
      "F =  [[ 5.33333333  4.25        7.5         2.         10.        ]\n",
      " [ 2.66666667  1.66666667  7.5        12.          1.        ]\n",
      " [10.          4.25        0.5         3.          5.33333333]\n",
      " [ 6.          5.         12.         18.          3.        ]\n",
      " [20.          3.75        5.5         1.75       15.        ]]\n"
     ]
    }
   ],
   "source": [
    "import numpy as np\n",
    "A = np.random.randint(1, 21, 25, 'i8')\n",
    "A.resize(5, 5)\n",
    "B = np.random.randint(1, 6, 25, 'i8')\n",
    "B.resize(5, 5)\n",
    "\n",
    "C=A+B\n",
    "D=A-B \n",
    "E=A*B \n",
    "F=A/B\n",
    "\n",
    "print(\"C = \", C)\n",
    "print(\"D = \", D)\n",
    "print(\"E = \", E)\n",
    "print(\"F = \", F)"
   ]
  },
  {
   "cell_type": "markdown",
   "id": "43fad425-0411-4471-962e-c79247aecb83",
   "metadata": {},
   "source": [
    "- **19.** Costruisci il prodotto scalare tra le  matrici A e B (righe per colonne)"
   ]
  },
  {
   "cell_type": "code",
   "execution_count": 8,
   "id": "5acd5b3b-a6fc-466e-b1b4-9c4fb390b3ab",
   "metadata": {},
   "outputs": [
    {
     "name": "stdout",
     "output_type": "stream",
     "text": [
      "[[171 267 191 191 188]\n",
      " [155 229 195 191 196]\n",
      " [128 130 170 138 118]\n",
      " [124 118 137 120  99]\n",
      " [128 173 163 118 149]]\n"
     ]
    }
   ],
   "source": [
    "import numpy as np\n",
    "A = np.random.randint(1, 21, 25, 'i8')\n",
    "A.resize(5, 5)\n",
    "B = np.random.randint(1, 6, 25, 'i8')\n",
    "B.resize(5, 5)\n",
    "\n",
    "print(np.dot(A, B))"
   ]
  },
  {
   "cell_type": "markdown",
   "id": "e6ae130a-1d6c-429b-ab62-718ff805d9bc",
   "metadata": {},
   "source": [
    "- **20.** Somma gli elementi delle righe della matrice B"
   ]
  },
  {
   "cell_type": "code",
   "execution_count": 10,
   "id": "560cc383-935c-4ff0-a697-c2ab9193a877",
   "metadata": {},
   "outputs": [
    {
     "name": "stdout",
     "output_type": "stream",
     "text": [
      "[19 18 16 12 16]\n"
     ]
    }
   ],
   "source": [
    "import numpy as np\n",
    "B = np.random.randint(1, 6, 25, 'i8')\n",
    "B.resize(5, 5)\n",
    "print(np.sum(B, axis=0))"
   ]
  },
  {
   "cell_type": "markdown",
   "id": "4cb04c63-c9c6-41a8-8e62-bc4497a4251b",
   "metadata": {},
   "source": [
    "- **21.** Somma gli elementi delle colonne della matrice B"
   ]
  },
  {
   "cell_type": "code",
   "execution_count": 11,
   "id": "49d6fe9a-3cfd-48a7-8fe4-91a7e2ad07cc",
   "metadata": {},
   "outputs": [
    {
     "name": "stdout",
     "output_type": "stream",
     "text": [
      "[14 17 16 17 17]\n"
     ]
    }
   ],
   "source": [
    "import numpy as np\n",
    "B = np.random.randint(1, 6, 25, 'i8')\n",
    "B.resize(5, 5)\n",
    "print(np.sum(B, axis=1))"
   ]
  },
  {
   "cell_type": "markdown",
   "id": "5715d0db-b005-4256-86a0-4a94a46fdd96",
   "metadata": {},
   "source": [
    "- **22.** Somma tutti gli elementi di B"
   ]
  },
  {
   "cell_type": "code",
   "execution_count": 12,
   "id": "c66982b5-0730-441d-b94c-1cb49d01c352",
   "metadata": {},
   "outputs": [
    {
     "name": "stdout",
     "output_type": "stream",
     "text": [
      "69\n"
     ]
    }
   ],
   "source": [
    "import numpy as np\n",
    "B = np.random.randint(1, 6, 25, 'i8')\n",
    "B.resize(5, 5)\n",
    "print(np.sum(B))"
   ]
  },
  {
   "cell_type": "markdown",
   "id": "337c76cc-d82b-4bbb-a57c-52080a6aa9cb",
   "metadata": {},
   "source": [
    "- **23.** Calcolare il minimo degli elementi di B, tra le righe, tra le colonne, il minimo di tutta la matrice B"
   ]
  },
  {
   "cell_type": "code",
   "execution_count": 13,
   "id": "eae274e3-c43b-4f1f-8031-af1e9d8c22a5",
   "metadata": {},
   "outputs": [
    {
     "name": "stdout",
     "output_type": "stream",
     "text": [
      "[1 2 2 1 1]\n",
      "[1 1 1 1 2]\n",
      "1\n"
     ]
    }
   ],
   "source": [
    "import numpy as np\n",
    "B = np.random.randint(1, 6, 25, 'i8')\n",
    "B.resize(5, 5)\n",
    "\n",
    "b1 = B.min(axis=0)\n",
    "b2 = B.min(axis=1)\n",
    "b3 = B.min()\n",
    "\n",
    "print(b1)\n",
    "print(b2)\n",
    "print(b3)"
   ]
  },
  {
   "cell_type": "markdown",
   "id": "30bc84d9-f2ff-42aa-95ee-b10d69e50762",
   "metadata": {},
   "source": [
    "- **24** Calcola, memorizzando in un vettore, la somma degli elementi di ogni colonna di $ |B |$. Calcola successivamente il massimo di questo vettore.\n",
    "$cmaxc= \\max_{j=1,n} \\sum_{i} |b_{ij}|$"
   ]
  },
  {
   "cell_type": "code",
   "execution_count": 15,
   "id": "6dd477f0-d0f7-4436-a7c6-389056034a1a",
   "metadata": {},
   "outputs": [
    {
     "name": "stdout",
     "output_type": "stream",
     "text": [
      "[[5 5 4 3 3]\n",
      " [4 1 4 4 4]\n",
      " [4 4 2 5 2]\n",
      " [5 3 3 2 4]\n",
      " [5 5 1 5 5]]\n",
      "21\n"
     ]
    }
   ],
   "source": [
    "import numpy as np\n",
    "B = np.random.randint(1, 6, 25, 'i8')\n",
    "B.resize(5, 5)\n",
    "print(B)\n",
    "\n",
    "res = B.sum(axis=1).max()\n",
    "print(res)"
   ]
  },
  {
   "cell_type": "markdown",
   "id": "7763e180-a6f1-41d3-9af7-4fb92bacd72d",
   "metadata": {},
   "source": [
    "- **25.** Calcola, memorizzando in un vettore, la somma degli elementi di ogni riga  di $ |B |$. Calcola successivamente il massimo di questo vettore.\n",
    "$cmaxr= \\max_{i=1,n} \\sum_{j} |b_{ij}|$"
   ]
  },
  {
   "cell_type": "code",
   "execution_count": 16,
   "id": "c6cba2c7-8eb5-4903-a985-61b010b287d1",
   "metadata": {},
   "outputs": [
    {
     "name": "stdout",
     "output_type": "stream",
     "text": [
      "[[5 4 3 4 5]\n",
      " [5 3 4 5 4]\n",
      " [1 3 1 5 4]\n",
      " [4 1 3 2 5]\n",
      " [3 2 5 1 4]]\n",
      "22\n"
     ]
    }
   ],
   "source": [
    "import numpy as np\n",
    "B = np.random.randint(1, 6, 25, 'i8')\n",
    "B.resize(5, 5)\n",
    "print(B)\n",
    "\n",
    "res = B.sum(axis=0).max()\n",
    "print(res)"
   ]
  },
  {
   "cell_type": "markdown",
   "id": "89a136bb-2e23-4fca-9717-d32434f5f5ce",
   "metadata": {},
   "source": [
    "- **26.** Effettua nella matrice B lo scambio tra la  riga 2 e  la riga 3"
   ]
  },
  {
   "cell_type": "code",
   "execution_count": 18,
   "id": "6ffad570-98c2-4148-beae-cc0572c0068e",
   "metadata": {},
   "outputs": [
    {
     "name": "stdout",
     "output_type": "stream",
     "text": [
      "[[1 5 5 2 1]\n",
      " [3 2 1 2 3]\n",
      " [5 4 3 2 3]\n",
      " [1 4 5 3 5]\n",
      " [3 5 1 3 5]]\n",
      "[[1 5 5 2 1]\n",
      " [5 4 3 2 3]\n",
      " [3 2 1 2 3]\n",
      " [1 4 5 3 5]\n",
      " [3 5 1 3 5]]\n"
     ]
    }
   ],
   "source": [
    "import numpy as np\n",
    "B = np.random.randint(1, 6, 25, 'i8')\n",
    "B.resize(5, 5)\n",
    "print(B)\n",
    "\n",
    "B[[1, 2],:] = B[[2, 1],:]\n",
    "print(B)"
   ]
  },
  {
   "cell_type": "markdown",
   "id": "5a00eaef-f14c-49f9-b9d1-c8ad90627935",
   "metadata": {},
   "source": [
    " - **27.** Calcola il valore massimo della colonna 0-esima della matrice B e l'indice di riga a cui appartiene"
   ]
  },
  {
   "cell_type": "code",
   "execution_count": 28,
   "id": "74c05214-f5f6-494a-bfec-1ca7b6f4486f",
   "metadata": {},
   "outputs": [
    {
     "name": "stdout",
     "output_type": "stream",
     "text": [
      "[[2 2 4 5 1]\n",
      " [5 2 3 3 3]\n",
      " [2 3 1 4 2]\n",
      " [2 2 4 5 4]\n",
      " [3 2 1 3 3]]\n",
      "[2. 5. 2. 3. 4.]\n"
     ]
    }
   ],
   "source": [
    "import numpy as np\n",
    "B = np.random.randint(1, 6, 25, 'i8')\n",
    "B.resize(5, 5)\n",
    "print(B)\n",
    "\n",
    "res = np.zeros(len(B))\n",
    "\n",
    "for i in range(len(B)):\n",
    "    res[i] = np.amax((i, B[i][0]))\n",
    "    \n",
    "print(res)"
   ]
  },
  {
   "cell_type": "markdown",
   "id": "12be327e-41a9-4700-82b2-f78709585ce3",
   "metadata": {},
   "source": [
    "- **28.** Scrivi una funzione border(m,n) per creare un array 2D di shape(m,n) che abbia tutti valori zero, ad eccezione degli elementi attorno al bordo (ovvero la prima e l'ultima riga e la prima e l'ultima colonna), che deve avere un valore pari a uno. Prevedi un argomento di default che se impostato a True visualizza la matrice "
   ]
  },
  {
   "cell_type": "code",
   "execution_count": 34,
   "id": "96822808-b12c-489b-8866-66325766230c",
   "metadata": {},
   "outputs": [
    {
     "name": "stdout",
     "output_type": "stream",
     "text": [
      "[[1. 1. 1. 1. 1.]\n",
      " [1. 0. 0. 0. 1.]\n",
      " [1. 0. 0. 0. 1.]\n",
      " [1. 0. 0. 0. 1.]\n",
      " [1. 1. 1. 1. 1.]]\n"
     ]
    }
   ],
   "source": [
    "import numpy as np\n",
    "def border(m,n,debug=False):\n",
    "    res = np.zeros((m,n))\n",
    "    for i in range(m):\n",
    "        for j in range(n):\n",
    "            if i == 0 or i == m-1 or j == 0 or j == n-1:\n",
    "                res[i][j] = 1\n",
    "    if debug:\n",
    "        print(res)\n",
    "    return res\n",
    "\n",
    "A = border(5,5,debug=True)"
   ]
  },
  {
   "cell_type": "markdown",
   "id": "20e88028-91cf-4f99-90b9-5d2f8148b3a9",
   "metadata": {},
   "source": [
    "- **29.** Scrivi una funzione `visualizza(f,a,b)`che prende in input una lambda function, gli estremi dell'intervallo su cui è definita e la visualizzi in una finestra grafica"
   ]
  },
  {
   "cell_type": "code",
   "execution_count": 35,
   "id": "b7b24776-5b30-41f8-a1c6-fd15e04114e6",
   "metadata": {},
   "outputs": [
    {
     "data": {
      "image/png": "[encoded data removed]",
      "text/plain": [
       "<Figure size 640x480 with 1 Axes>"
      ]
     },
     "metadata": {},
     "output_type": "display_data"
    }
   ],
   "source": [
    "import numpy as np\n",
    "import matplotlib.pyplot as plt\n",
    "\n",
    "def visualizza(f,a,b):\n",
    "    x = np.linspace(a,b,100)\n",
    "    y = f(x)\n",
    "    plt.plot(x,y)\n",
    "    plt.show()\n",
    "    \n",
    "visualizza(lambda x: x**2,1,10)"
   ]
  },
  {
   "cell_type": "markdown",
   "id": "c4e0b8d0-b590-4554-9954-7333715b3c63",
   "metadata": {},
   "source": [
    "- **30.** Scrivi una funzione `visualizza2(f,a,b,f2,a2,b2)`che prende in input una lambda function f e gli estremi dell'intervallo su cui è definita, una lambda function f2 e gli estremi dell'intervallo su cui è definita, e l2 visualizzi sulla stessa finestra grafica"
   ]
  },
  {
   "cell_type": "code",
   "execution_count": 40,
   "id": "7113b12c-8b69-4c98-8880-d4905f90f343",
   "metadata": {},
   "outputs": [
    {
     "data": {
      "image/png": "[encoded data removed]",
      "text/plain": [
       "<Figure size 640x480 with 1 Axes>"
      ]
     },
     "metadata": {},
     "output_type": "display_data"
    }
   ],
   "source": [
    "import numpy as np\n",
    "import matplotlib.pyplot as plt\n",
    "\n",
    "def visualizza(f,a,b,f2,a2,b2):\n",
    "    x = np.linspace(a,b,100)\n",
    "    y = f(x)\n",
    "    x2 = np.linspace(a2,b2,100)\n",
    "    y2 = f2(x2)\n",
    "    plt.plot(x,y)\n",
    "    plt.plot(x2,y2)\n",
    "    plt.grid(True)\n",
    "    plt.xlabel('x')\n",
    "    plt.ylabel('y')\n",
    "    plt.title('title')\n",
    "    plt.legend([\"Funzione1\", \"Funzione2\"])\n",
    "    plt.show()\n",
    "    \n",
    "visualizza(lambda x: x**2,1,10,lambda x: x**3,1,10)"
   ]
  }
 ],
 "metadata": {
  "kernelspec": {
   "display_name": "Python 3 (ipykernel)",
   "language": "python",
   "name": "python3"
  },
  "language_info": {
   "codemirror_mode": {
    "name": "ipython",
    "version": 3
   },
   "file_extension": ".py",
   "mimetype": "text/x-python",
   "name": "python",
   "nbconvert_exporter": "python",
   "pygments_lexer": "ipython3",
   "version": "3.9.13"
  }
 },
 "nbformat": 4,
 "nbformat_minor": 5
}
