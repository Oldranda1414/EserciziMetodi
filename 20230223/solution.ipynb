{
 "cells": [
  {
   "cell_type": "markdown",
   "id": "c345a183-60ea-4c06-82e3-1b8a6a3e8a4c",
   "metadata": {},
   "source": [
    "# Exercises taken from [00_esercizi_python_intro.ipynb](00_esercizi_python_intro.ipynb)"
   ]
  },
  {
   "cell_type": "markdown",
   "id": "00dff23f-a666-41b0-be90-b057d841db4d",
   "metadata": {},
   "source": [
    "## Exercise 1"
   ]
  },
  {
   "cell_type": "code",
   "execution_count": 4,
   "id": "aa31b000-cca0-4179-9298-a2b6441e3fc0",
   "metadata": {},
   "outputs": [
    {
     "name": "stdin",
     "output_type": "stream",
     "text": [
      "Enter the list items :  1 1 2 3 5 8 13 21 34 55 89\n"
     ]
    },
    {
     "name": "stdout",
     "output_type": "stream",
     "text": [
      "[1, 1, 2, 3]\n"
     ]
    }
   ],
   "source": [
    "#Items should be separated by spaces and should be integers\n",
    "lst = [int(item) for item in input(\"Enter the list items : \").split()]\n",
    "outputList = list()\n",
    "for value in lst:\n",
    "    if value < 5:\n",
    "        outputList.append(value)\n",
    "        \n",
    "print(outputList) "
   ]
  },
  {
   "cell_type": "markdown",
   "id": "63bf2955-b339-4576-8fd1-f0ae43fd5c3e",
   "metadata": {},
   "source": [
    "## Exercise 2"
   ]
  },
  {
   "cell_type": "code",
   "execution_count": 3,
   "id": "0ae06428-c2bd-4df1-9600-7a83f477f6b4",
   "metadata": {},
   "outputs": [
    {
     "name": "stdin",
     "output_type": "stream",
     "text": [
      "Enter the list 1 items :  1 1 2 3 5 8 13 21 34 55 89\n",
      "Enter the list 2 items :  1 2 3 4 5 6 7 8 9 10 11 12 13\n"
     ]
    },
    {
     "name": "stdout",
     "output_type": "stream",
     "text": [
      "[1, 2, 3, 5, 8, 13]\n"
     ]
    }
   ],
   "source": [
    "#Items should be separated by spaces and should be integers\n",
    "lst1 = [int(item) for item in input(\"Enter the list 1 items : \").split()]\n",
    "lst2 = [int(item) for item in input(\"Enter the list 2 items : \").split()]\n",
    "outputList = list()\n",
    "for item in lst1:\n",
    "    if item in lst2 and not item in outputList:\n",
    "        outputList.append(item)\n",
    "print(outputList)\n",
    "\n",
    "#did not understand extra question"
   ]
  },
  {
   "cell_type": "markdown",
   "id": "88d7ed1e-3431-45c5-a4c0-588dfef6922e",
   "metadata": {},
   "source": [
    "## Exercise 3"
   ]
  },
  {
   "cell_type": "code",
   "execution_count": 33,
   "id": "410974e7-12ba-41a4-b025-b4082b94ab58",
   "metadata": {
    "tags": []
   },
   "outputs": [
    {
     "name": "stdin",
     "output_type": "stream",
     "text": [
      "Enter the list items :  1 4 9 16 25 49 64 81 100\n"
     ]
    },
    {
     "name": "stdout",
     "output_type": "stream",
     "text": [
      "[4, 16, 64, 100]\n"
     ]
    }
   ],
   "source": [
    "#Items should be separated by spaces and should be integers\n",
    "lst = [int(item) for item in input(\"Enter the list items : \").split()]\n",
    "lst = [item for item in lst if item%2==0]\n",
    "print(lst)"
   ]
  },
  {
   "cell_type": "markdown",
   "id": "dd4402ac-99a5-4a93-a14f-3d7f79cca225",
   "metadata": {},
   "source": [
    "## Exercise 4"
   ]
  },
  {
   "cell_type": "code",
   "execution_count": 11,
   "id": "24159a06-4aad-4dfd-9ab6-0261632639af",
   "metadata": {},
   "outputs": [
    {
     "name": "stdout",
     "output_type": "stream",
     "text": [
      "* \n",
      "* * \n",
      "* * * \n",
      "* * * * \n",
      "* * * * * \n",
      "* * * * \n",
      "* * * \n",
      "* * \n",
      "* \n"
     ]
    }
   ],
   "source": [
    "n = 0\n",
    "char = \"* \"\n",
    "for i in range(9):\n",
    "    if i < 5:\n",
    "        n = n + 1\n",
    "    else:\n",
    "        n = n - 1\n",
    "    print(char*n)"
   ]
  },
  {
   "cell_type": "markdown",
   "id": "87a81838-0917-49f6-a680-0cb19042a8c0",
   "metadata": {},
   "source": [
    "## Exercise 5"
   ]
  },
  {
   "cell_type": "code",
   "execution_count": 23,
   "id": "ccea304b-0857-4f6e-a3ca-7016a087d20c",
   "metadata": {},
   "outputs": [
    {
     "name": "stdin",
     "output_type": "stream",
     "text": [
      "enter first string:  by\n",
      "enter second string:  blueberry\n"
     ]
    },
    {
     "name": "stdout",
     "output_type": "stream",
     "text": [
      "true\n"
     ]
    }
   ],
   "source": [
    "str1 = input(\"enter first string: \")\n",
    "str2 = input(\"enter second string: \")\n",
    "check = str1\n",
    "for char in str1:\n",
    "    if char in str2:\n",
    "        check = check.replace(char, \"\", 1)\n",
    "        \n",
    "if len(check) == 0:\n",
    "    print(\"true\")\n",
    "else:\n",
    "    print(\"false\")"
   ]
  },
  {
   "cell_type": "markdown",
   "id": "c45ea9cf-cd3a-4730-8625-2e903e4be2c9",
   "metadata": {},
   "source": [
    "## Exercise 6"
   ]
  },
  {
   "cell_type": "code",
   "execution_count": 30,
   "id": "fca33e38-412a-4d19-a1a5-eacec87e8991",
   "metadata": {},
   "outputs": [
    {
     "name": "stdin",
     "output_type": "stream",
     "text": [
      "enter first number 1000\n",
      "enter second number 10\n",
      "do you want to set a boundry? (y/n) : n\n"
     ]
    },
    {
     "name": "stdout",
     "output_type": "stream",
     "text": [
      "1010\n"
     ]
    }
   ],
   "source": [
    "def genericFunction(num1, num2, boundry = 1000):\n",
    "    prod = num1 * num2\n",
    "    if prod < boundry:\n",
    "        return prod\n",
    "    else:\n",
    "        return num1 + num2\n",
    "\n",
    "num1 = int(input(\"enter first number\"))\n",
    "num2 = int(input(\"enter second number\"))\n",
    "check = input(\"do you want to set a boundry? (y/n) :\")\n",
    "if check == \"y\":\n",
    "    userBoundry = int(input(\"enter boundry: \"))\n",
    "    print(genericFunction(num1, num2, userBoundry))\n",
    "elif check == \"n\":\n",
    "    print(genericFunction(num1, num2))\n",
    "else:\n",
    "    print(\"entered option not valid\")\n"
   ]
  },
  {
   "cell_type": "markdown",
   "id": "5f045109-627c-4e7c-b077-8294222e8063",
   "metadata": {},
   "source": [
    "## Exercise 7"
   ]
  },
  {
   "cell_type": "code",
   "execution_count": 38,
   "id": "ba8b8591-8abd-4b37-b5e9-f4a0320c748b",
   "metadata": {},
   "outputs": [
    {
     "name": "stdin",
     "output_type": "stream",
     "text": [
      "Enter the list items :  1 1 2 3 5 8 13\n"
     ]
    },
    {
     "name": "stdout",
     "output_type": "stream",
     "text": [
      "result of sumAndProd: (33, 3120)\n",
      "results of sumOrProd: 33, 3120\n"
     ]
    }
   ],
   "source": [
    "def sumAndProd(lst):\n",
    "    sm= lst[0]\n",
    "    prod = lst[0]\n",
    "    for item in lst[1:]:\n",
    "        sm = sm + item\n",
    "        prod = prod * item\n",
    "    return sm, prod\n",
    "\n",
    "def sumOrProd(lst, command):\n",
    "    result = lst[0]\n",
    "    if command == \"+\":\n",
    "        for item in lst[1:]:\n",
    "            result = result + item\n",
    "        return result\n",
    "    elif command == \"*\":\n",
    "        for item in lst[1:]:\n",
    "            result = result * item\n",
    "        return result\n",
    "    else:\n",
    "        print(\"command not valid\")\n",
    "        return 0\n",
    "\n",
    "#Items should be separated by spaces and should be integers\n",
    "lst = [int(item) for item in input(\"Enter the list items : \").split()]\n",
    "\n",
    "print(\"result of sumAndProd: \" + str(sumAndProd(lst)))\n",
    "print(\"results of sumOrProd: \" + str(sumOrProd(lst, \"+\")) + \", \" + str(sumOrProd(lst, \"*\")))"
   ]
  },
  {
   "cell_type": "markdown",
   "id": "12334e41-0c60-44a9-9b8d-ef2b6458b1da",
   "metadata": {},
   "source": [
    "## Exercise 8"
   ]
  },
  {
   "cell_type": "code",
   "execution_count": null,
   "id": "d053ba89-ddfe-4561-b052-70af1f35b95f",
   "metadata": {},
   "outputs": [],
   "source": [
    "# Exercise 8"
   ]
  }
 ],
 "metadata": {
  "kernelspec": {
   "display_name": "Python 3 (ipykernel)",
   "language": "python",
   "name": "python3"
  },
  "language_info": {
   "codemirror_mode": {
    "name": "ipython",
    "version": 3
   },
   "file_extension": ".py",
   "mimetype": "text/x-python",
   "name": "python",
   "nbconvert_exporter": "python",
   "pygments_lexer": "ipython3",
   "version": "3.9.13"
  }
 },
 "nbformat": 4,
 "nbformat_minor": 5
}
