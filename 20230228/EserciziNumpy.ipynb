{
 "cells": [
  {
   "cell_type": "markdown",
   "id": "cb8d7ec5-c308-4c91-8bbf-adad4c51b57f",
   "metadata": {},
   "source": [
    "# Esercizio 1"
   ]
  },
  {
   "cell_type": "markdown",
   "id": "b7c7f021-757d-4cd3-bba5-57ca8bfd4077",
   "metadata": {},
   "source": [
    "Definire i  numpy array a=[1.2, 5.4, 6, 1.59] e b=[5.2, 1.2, 1.5, 2] ed eseguire le seguenti operazioni:\n",
    "  - calcolare la radice quadrata degli elementi di a;\n",
    "   - calcolare 𝑒xp(𝑎/2) ;\n",
    "   - calcolare il vettore somma tra a e b ;\n",
    "   - moltiplicare ogni elemento di a per il corrispondente elemento di b;\n",
    "   - creare un vettore di valori uniformemente equispaziati tra 0 e 30 con passo  0.5;\n",
    "   - creare un vettore di 100 valori uniformemente equispaziati tra 1 e 2.\n",
    "   - usare linspace() per creare un numpy array 2x6 con prima riga di 6 valori uniformi compresi tra 10 e 20 e seconda riga 6 valori     \n",
    "      uniformi compresi tra  20 e 10;\n",
    "   - calcolare il prodotto scalare tra a e b;\n",
    "   - creare la matrice A che ha come righe i vettori a e b ;\n",
    "   - calcolare il prodotto scalare tra i due vettori a e b;\n",
    "   - eseguire il prodotto della matrice A per il vettore b e assegnarlo ad y;\n",
    "   - costruire una matrice diagonale D a partire dal vettore a;"
   ]
  },
  {
   "cell_type": "code",
   "execution_count": 11,
   "id": "4fc6f04f-5835-4764-aac4-dc23663e4d62",
   "metadata": {},
   "outputs": [
    {
     "name": "stdout",
     "output_type": "stream",
     "text": [
      "square root of elements of a =  [1.09544512 2.32379001 2.44948974 1.26095202]\n",
      "exp(a/2) =  [ 1.8221188  14.87973172 20.08553692  2.214441  ]\n",
      "sum vector of a and b =  [6.4  6.6  7.5  3.59]\n",
      "a*b element-wise =  [6.24 6.48 9.   3.18]\n",
      "vector of equispaced values between 0 and 30 with step 3 =  [ 0.   0.5  1.   1.5  2.   2.5  3.   3.5  4.   4.5  5.   5.5  6.   6.5\n",
      "  7.   7.5  8.   8.5  9.   9.5 10.  10.5 11.  11.5 12.  12.5 13.  13.5\n",
      " 14.  14.5 15.  15.5 16.  16.5 17.  17.5 18.  18.5 19.  19.5 20.  20.5\n",
      " 21.  21.5 22.  22.5 23.  23.5 24.  24.5 25.  25.5 26.  26.5 27.  27.5\n",
      " 28.  28.5 29.  29.5]\n",
      "vector of equispaced values between 1 and 2 =  [1.         1.02040816 1.04081633 1.06122449 1.08163265 1.10204082\n",
      " 1.12244898 1.14285714 1.16326531 1.18367347 1.20408163 1.2244898\n",
      " 1.24489796 1.26530612 1.28571429 1.30612245 1.32653061 1.34693878\n",
      " 1.36734694 1.3877551  1.40816327 1.42857143 1.44897959 1.46938776\n",
      " 1.48979592 1.51020408 1.53061224 1.55102041 1.57142857 1.59183673\n",
      " 1.6122449  1.63265306 1.65306122 1.67346939 1.69387755 1.71428571\n",
      " 1.73469388 1.75510204 1.7755102  1.79591837 1.81632653 1.83673469\n",
      " 1.85714286 1.87755102 1.89795918 1.91836735 1.93877551 1.95918367\n",
      " 1.97959184 2.        ]\n",
      "[[10.         10.20408163 10.40816327 10.6122449  10.81632653 11.02040816\n",
      "  11.2244898  11.42857143 11.63265306 11.83673469 12.04081633 12.24489796\n",
      "  12.44897959 12.65306122 12.85714286 13.06122449 13.26530612 13.46938776\n",
      "  13.67346939 13.87755102 14.08163265 14.28571429 14.48979592 14.69387755\n",
      "  14.89795918 15.10204082 15.30612245 15.51020408 15.71428571 15.91836735\n",
      "  16.12244898 16.32653061 16.53061224 16.73469388 16.93877551 17.14285714\n",
      "  17.34693878 17.55102041 17.75510204 17.95918367 18.16326531 18.36734694\n",
      "  18.57142857 18.7755102  18.97959184 19.18367347 19.3877551  19.59183673\n",
      "  19.79591837 20.        ]\n",
      " [20.         19.79591837 19.59183673 19.3877551  19.18367347 18.97959184\n",
      "  18.7755102  18.57142857 18.36734694 18.16326531 17.95918367 17.75510204\n",
      "  17.55102041 17.34693878 17.14285714 16.93877551 16.73469388 16.53061224\n",
      "  16.32653061 16.12244898 15.91836735 15.71428571 15.51020408 15.30612245\n",
      "  15.10204082 14.89795918 14.69387755 14.48979592 14.28571429 14.08163265\n",
      "  13.87755102 13.67346939 13.46938776 13.26530612 13.06122449 12.85714286\n",
      "  12.65306122 12.44897959 12.24489796 12.04081633 11.83673469 11.63265306\n",
      "  11.42857143 11.2244898  11.02040816 10.81632653 10.6122449  10.40816327\n",
      "  10.20408163 10.        ]]\n",
      "scalar product a*b =  24.9\n",
      "A =  [[1.2  5.4  6.   1.59]\n",
      " [5.2  1.2  1.5  2.  ]]\n",
      "y =  [24.9  34.73]\n",
      "D =  [[1.2  0.   0.   0.  ]\n",
      " [0.   5.4  0.   0.  ]\n",
      " [0.   0.   6.   0.  ]\n",
      " [0.   0.   0.   1.59]]\n"
     ]
    }
   ],
   "source": [
    "import numpy as np\n",
    "\n",
    "a = np.array([1.2, 5.4, 6, 1.59])\n",
    "b = np.array([5.2, 1.2, 1.5, 2])\n",
    "\n",
    "print(\"square root of elements of a = \", np.sqrt(a))\n",
    "print(\"exp(a/2) = \", np.exp(a/2))\n",
    "print(\"sum vector of a and b = \", a+b)\n",
    "print(\"a*b element-wise = \", a*b)\n",
    "print(\"vector of equispaced values between 0 and 30 with step 3 = \", np.arange(0, 30, 0.5))\n",
    "print(\"vector of equispaced values between 1 and 2 = \", np.linspace(1, 2))\n",
    "print(np.array([np.linspace(10, 20), np.linspace(20, 10)]))\n",
    "print(\"scalar product a*b = \", np.dot(a, b))\n",
    "A = np.array([a, b])\n",
    "print(\"A = \", A)\n",
    "y = np.dot(A, b)\n",
    "print(\"y = \", y)\n",
    "D = np.diag(a)\n",
    "print(\"D = \", D)"
   ]
  },
  {
   "cell_type": "markdown",
   "id": "70b6acab-85c5-4783-84e0-999ca8e68bf3",
   "metadata": {},
   "source": [
    "# Esercizio 2"
   ]
  },
  {
   "cell_type": "markdown",
   "id": "31345015-b8ec-4ea0-aaac-598630474855",
   "metadata": {},
   "source": [
    "Costruire  i seguenti Numpy array 2d utilizzando il minor numero di istruzioni possibili"
   ]
  },
  {
   "cell_type": "markdown",
   "id": "ccf86356-d50a-493c-a870-54c5cc1480eb",
   "metadata": {},
   "source": [
    "<img src=\"ese2.png\" width=\"500\">"
   ]
  },
  {
   "cell_type": "code",
   "execution_count": 30,
   "id": "0de75df7-72d5-48a0-aeda-dfb5034e7a6e",
   "metadata": {},
   "outputs": [
    {
     "name": "stdout",
     "output_type": "stream",
     "text": [
      "[[2. 2. 3. 3.]\n",
      " [2. 2. 3. 3.]\n",
      " [0. 0. 0. 0.]\n",
      " [0. 0. 0. 0.]]\n",
      "[[5 0]\n",
      " [0 5]]\n",
      "A = [[2 2 2 3]\n",
      " [2 2 2 3]\n",
      " [2 2 2 3]]\n",
      "B = [[ 2  0  0  1  2  3  4  5  6  7  8  9 10]\n",
      " [ 0  2  0  1  2  3  4  5  6  7  8  9 10]\n",
      " [ 0  0  2  1  2  3  4  5  6  7  8  9 10]]\n",
      "C = [[ 2 -1  0  0  0]\n",
      " [-1  2 -1  0  0]\n",
      " [ 0 -1  2 -1  0]\n",
      " [ 0  0 -1  2 -1]\n",
      " [ 0  0  0 -1  2]]\n",
      "D = [[2. 2. 3. 3.]\n",
      " [2. 2. 3. 3.]\n",
      " [0. 0. 0. 0.]\n",
      " [0. 0. 0. 0.]\n",
      " [0. 0. 5. 0.]\n",
      " [0. 0. 0. 5.]]\n"
     ]
    }
   ],
   "source": [
    "import numpy as np\n",
    "\n",
    "#creating the matrices\n",
    "A = np.append(np.full((3, 3), 2), np.full((3, 1), 3), 1)\n",
    "B = np.append(np.diagflat(np.full((1, 3), 2)), np.reshape(np.array([np.arange(1, 11)] * 3), (3, 10)), axis = 1)\n",
    "C = np.diagflat(np.full((1, 4), -1), -1) + np.diagflat(np.full((1, 5), 2)) + np.diagflat(np.full((1, 4), -1), 1)\n",
    "D = np.append(np.append(np.append(np.full((2,2), 2), np.full((2,2), 3), 1), np.zeros((2, 4)), 0), np.append(np.zeros((2, 2)), np.diagflat(np.full((1, 2), 5)), 1), 0)\n",
    "\n",
    "print(np.append(np.append(np.full((2,2), 2), np.full((2,2), 3), 1), np.zeros((2, 4)), 0))\n",
    "print(np.diagflat(np.full((1, 2), 5)))\n",
    "\n",
    "#printing the matrices\n",
    "print(\"A =\", A)\n",
    "print(\"B =\", B)\n",
    "print(\"C =\", C)\n",
    "print(\"D =\", D)"
   ]
  },
  {
   "cell_type": "markdown",
   "id": "10a6c66f-2a62-4697-ab7a-b897fb66bcc9",
   "metadata": {},
   "source": [
    "# Esercizio 3"
   ]
  },
  {
   "cell_type": "markdown",
   "id": "8354e8db-9393-41b5-92bf-7dbd9174a20c",
   "metadata": {},
   "source": [
    "Calcolare la somma dei primi n numeri naturali dispari sia utilizzando un ciclo for che servendosi dell'istruzione sum di numpy."
   ]
  },
  {
   "cell_type": "code",
   "execution_count": 34,
   "id": "2f500e88-1d6d-47fa-b91a-af2bdceb4609",
   "metadata": {},
   "outputs": [
    {
     "name": "stdout",
     "output_type": "stream",
     "text": [
      "144\n",
      "144\n"
     ]
    }
   ],
   "source": [
    "import numpy as np\n",
    "n = 24\n",
    "\n",
    "forSum = 0\n",
    "for i in range(1, n, 2):\n",
    "    forSum = forSum + i\n",
    "    \n",
    "numpySum = np.sum(range(1, n, 2))\n",
    "\n",
    "print(forSum)\n",
    "print(numpySum)"
   ]
  },
  {
   "cell_type": "markdown",
   "id": "76da5e04-e555-4fee-bfd8-2df68d8996c9",
   "metadata": {},
   "source": [
    "# Esercizo 4"
   ]
  },
  {
   "cell_type": "markdown",
   "id": "5ecf31dd-d88c-46f8-b1b4-2e3b5988694e",
   "metadata": {},
   "source": [
    "Scrivere una function Python per generare l'n-esimo termine (n > 2) della successione\n",
    "di Fibonacci. Scrivere poi una function ricorsiva che risolva lo stesso problema\n",
    "e confrontare i tempi di calcolo delle due functions per n = 24."
   ]
  },
  {
   "cell_type": "code",
   "execution_count": 41,
   "id": "8335a18b-c416-462d-9a61-8e3ef47a0179",
   "metadata": {},
   "outputs": [
    {
     "name": "stdout",
     "output_type": "stream",
     "text": [
      "46368\n",
      "46368\n"
     ]
    }
   ],
   "source": [
    "import numpy as np\n",
    "\n",
    "def fibonacci(n):\n",
    "    prev = 1\n",
    "    curr = 1\n",
    "    for i in range(2, n):\n",
    "        tmp = curr\n",
    "        curr = curr + prev\n",
    "        prev = tmp\n",
    "    return curr\n",
    "\n",
    "def recursiveFibonacci(n):\n",
    "    if(n == 2 or n == 1):\n",
    "        return 1\n",
    "    else:\n",
    "        return recursiveFibonacci(n - 1) + recursiveFibonacci(n - 2)\n",
    "\n",
    "n = 24\n",
    "\n",
    "print(fibonacci(n))\n",
    "print(recursiveFibonacci(n))"
   ]
  },
  {
   "cell_type": "code",
   "execution_count": null,
   "id": "e8b00a3c-1f4c-4df3-90bd-5f4c91a40485",
   "metadata": {},
   "outputs": [],
   "source": []
  }
 ],
 "metadata": {
  "kernelspec": {
   "display_name": "Python 3 (ipykernel)",
   "language": "python",
   "name": "python3"
  },
  "language_info": {
   "codemirror_mode": {
    "name": "ipython",
    "version": 3
   },
   "file_extension": ".py",
   "mimetype": "text/x-python",
   "name": "python",
   "nbconvert_exporter": "python",
   "pygments_lexer": "ipython3",
   "version": "3.9.13"
  }
 },
 "nbformat": 4,
 "nbformat_minor": 5
}
